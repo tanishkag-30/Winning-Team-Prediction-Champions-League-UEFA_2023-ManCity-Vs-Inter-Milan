{
 "cells": [
  {
   "cell_type": "code",
   "execution_count": 212,
   "id": "efc8959e",
   "metadata": {},
   "outputs": [],
   "source": [
    "import pandas as pd\n",
    "from sklearn.model_selection import train_test_split\n",
    "from sklearn.ensemble import RandomForestClassifier\n",
    "from sklearn.metrics import accuracy_score"
   ]
  },
  {
   "cell_type": "code",
   "execution_count": 213,
   "id": "fd8f18c0",
   "metadata": {},
   "outputs": [
    {
     "data": {
      "text/html": [
       "<div>\n",
       "<style scoped>\n",
       "    .dataframe tbody tr th:only-of-type {\n",
       "        vertical-align: middle;\n",
       "    }\n",
       "\n",
       "    .dataframe tbody tr th {\n",
       "        vertical-align: top;\n",
       "    }\n",
       "\n",
       "    .dataframe thead th {\n",
       "        text-align: right;\n",
       "    }\n",
       "</style>\n",
       "<table border=\"1\" class=\"dataframe\">\n",
       "  <thead>\n",
       "    <tr style=\"text-align: right;\">\n",
       "      <th></th>\n",
       "      <th>team</th>\n",
       "      <th>goals_scored</th>\n",
       "      <th>assists</th>\n",
       "      <th>shots_on_target</th>\n",
       "      <th>pass_completion_rate</th>\n",
       "      <th>tackles_won</th>\n",
       "      <th>saves_made</th>\n",
       "      <th>dribbles_completed</th>\n",
       "      <th>interceptions_made</th>\n",
       "      <th>formation</th>\n",
       "      <th>playing_style</th>\n",
       "      <th>set_piece_routines</th>\n",
       "      <th>head_to_head_record</th>\n",
       "      <th>recent_form</th>\n",
       "      <th>previous_champions_league_performance</th>\n",
       "      <th>Outcome</th>\n",
       "    </tr>\n",
       "  </thead>\n",
       "  <tbody>\n",
       "    <tr>\n",
       "      <th>0</th>\n",
       "      <td>Man City</td>\n",
       "      <td>31</td>\n",
       "      <td>27</td>\n",
       "      <td>26</td>\n",
       "      <td>90.42</td>\n",
       "      <td>41</td>\n",
       "      <td>26</td>\n",
       "      <td>187</td>\n",
       "      <td>26</td>\n",
       "      <td>3-2-2-3</td>\n",
       "      <td>attacking</td>\n",
       "      <td>corners:long;free_kicks:directed</td>\n",
       "      <td>WWL</td>\n",
       "      <td>LDWWW</td>\n",
       "      <td>Loser</td>\n",
       "      <td>Winner</td>\n",
       "    </tr>\n",
       "    <tr>\n",
       "      <th>1</th>\n",
       "      <td>Inter Milan</td>\n",
       "      <td>19</td>\n",
       "      <td>17</td>\n",
       "      <td>18</td>\n",
       "      <td>82.92</td>\n",
       "      <td>83</td>\n",
       "      <td>45</td>\n",
       "      <td>100</td>\n",
       "      <td>46</td>\n",
       "      <td>3-5-2-0</td>\n",
       "      <td>defensive</td>\n",
       "      <td>corners:long;free_kicks:indirected</td>\n",
       "      <td>LLW</td>\n",
       "      <td>WWLWW</td>\n",
       "      <td>Loser</td>\n",
       "      <td>Loser</td>\n",
       "    </tr>\n",
       "  </tbody>\n",
       "</table>\n",
       "</div>"
      ],
      "text/plain": [
       "          team  goals_scored  assists  shots_on_target  pass_completion_rate  \\\n",
       "0     Man City            31       27               26                 90.42   \n",
       "1  Inter Milan            19       17               18                 82.92   \n",
       "\n",
       "   tackles_won  saves_made  dribbles_completed  interceptions_made formation  \\\n",
       "0           41          26                 187                  26   3-2-2-3   \n",
       "1           83          45                 100                  46   3-5-2-0   \n",
       "\n",
       "  playing_style                  set_piece_routines head_to_head_record  \\\n",
       "0     attacking    corners:long;free_kicks:directed                 WWL   \n",
       "1     defensive  corners:long;free_kicks:indirected                 LLW   \n",
       "\n",
       "  recent_form previous_champions_league_performance Outcome  \n",
       "0       LDWWW                                 Loser  Winner  \n",
       "1       WWLWW                                 Loser   Loser  "
      ]
     },
     "execution_count": 213,
     "metadata": {},
     "output_type": "execute_result"
    }
   ],
   "source": [
    "# load the csv data\n",
    "data = pd.read_excel('Downloads/football.xlsx')\n",
    "data.head()"
   ]
  },
  {
   "cell_type": "code",
   "execution_count": 214,
   "id": "55cf1592",
   "metadata": {},
   "outputs": [],
   "source": [
    "# Define the features to use in the model\n",
    "features = ['goals_scored', 'assists', 'shots_on_target', 'pass_completion_rate', 'tackles_won', 'saves_made', 'dribbles_completed', 'interceptions_made', 'formation', 'playing_style', 'set_piece_routines', 'head_to_head_record', 'recent_form', 'previous_champions_league_performance','Outcome']"
   ]
  },
  {
   "cell_type": "code",
   "execution_count": 215,
   "id": "68aabf49",
   "metadata": {},
   "outputs": [],
   "source": [
    "# Convert playing style into numerical representation using one-hot encoding\n",
    "data_encoded = pd.get_dummies(features, columns=['playing_style'])"
   ]
  },
  {
   "cell_type": "code",
   "execution_count": 216,
   "id": "e735eece",
   "metadata": {},
   "outputs": [],
   "source": [
    "# Extract the features from the data\n",
    "features = data_encoded.drop(columns=['Outcome'])\n",
    "labels = data_encoded['Outcome']"
   ]
  },
  {
   "cell_type": "code",
   "execution_count": 217,
   "id": "ad19dbab",
   "metadata": {},
   "outputs": [],
   "source": [
    "# Step 3: Split the data into training and testing sets\n",
    "X_train, X_test, y_train, y_test = train_test_split(features, labels, test_size=0.2, random_state=42)"
   ]
  },
  {
   "cell_type": "code",
   "execution_count": 218,
   "id": "661b5752",
   "metadata": {},
   "outputs": [
    {
     "data": {
      "text/plain": [
       "RandomForestClassifier()"
      ]
     },
     "execution_count": 218,
     "metadata": {},
     "output_type": "execute_result"
    }
   ],
   "source": [
    "# Train a Random Forest classifier\n",
    "model = RandomForestClassifier()\n",
    "model.fit(X_train, y_train)"
   ]
  },
  {
   "cell_type": "code",
   "execution_count": 219,
   "id": "d0a3d0fc",
   "metadata": {},
   "outputs": [],
   "source": [
    "# Predict the outcome for the testing set\n",
    "y_pred = model.predict(X_test)\n"
   ]
  },
  {
   "cell_type": "code",
   "execution_count": 220,
   "id": "2155b613",
   "metadata": {},
   "outputs": [],
   "source": [
    "# Assuming Man City is label 0 and Inter Milan is label 1\n",
    "team_predictions = model.predict([[0, 0, 0, 0, 0, 1, 1, 1, 0, 1, 1, 1, 0, 0]])"
   ]
  },
  {
   "cell_type": "code",
   "execution_count": 221,
   "id": "fbf9ee20",
   "metadata": {},
   "outputs": [],
   "source": [
    "if team_predictions[0] == 0:\n",
    "    best_team = \"Manchester City\"\n",
    "    victory_quote = \"The sky-blue brigade reigns supreme in the Champions League Final!\"\n",
    "else:\n",
    "    best_team = \"Inter Milan\"\n",
    "    victory_quote = \"The Nerazzurri conquer the Champions League Final with grace and power!\""
   ]
  },
  {
   "cell_type": "code",
   "execution_count": 222,
   "id": "dd5d68b0",
   "metadata": {},
   "outputs": [
    {
     "name": "stdout",
     "output_type": "stream",
     "text": [
      "\n",
      "And the winner of the Champions League Final is...\n",
      "Manchester City!\n",
      "The sky-blue brigade reigns supreme in the Champions League Final!\n"
     ]
    }
   ],
   "source": [
    "print(\"\\nAnd the winner of the Champions League Final is...\")\n",
    "print(best_team + \"!\")\n",
    "print(victory_quote)"
   ]
  },
  {
   "cell_type": "code",
   "execution_count": null,
   "id": "5133546c",
   "metadata": {},
   "outputs": [],
   "source": []
  }
 ],
 "metadata": {
  "kernelspec": {
   "display_name": "Python 3",
   "language": "python",
   "name": "python3"
  },
  "language_info": {
   "codemirror_mode": {
    "name": "ipython",
    "version": 3
   },
   "file_extension": ".py",
   "mimetype": "text/x-python",
   "name": "python",
   "nbconvert_exporter": "python",
   "pygments_lexer": "ipython3",
   "version": "3.8.8"
  }
 },
 "nbformat": 4,
 "nbformat_minor": 5
}
